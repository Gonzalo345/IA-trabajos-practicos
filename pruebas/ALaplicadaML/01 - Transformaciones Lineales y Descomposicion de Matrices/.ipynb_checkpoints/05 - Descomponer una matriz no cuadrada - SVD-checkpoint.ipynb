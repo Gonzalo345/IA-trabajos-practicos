{
 "cells": [
  {
   "cell_type": "code",
   "execution_count": 1,
   "id": "9cf34b7c",
   "metadata": {},
   "outputs": [],
   "source": [
    "%matplotlib inline\n",
    "\n",
    "import numpy as np\n",
    "import matplotlib.pyplot as plt"
   ]
  },
  {
   "cell_type": "code",
   "execution_count": 2,
   "id": "396168a6",
   "metadata": {},
   "outputs": [],
   "source": [
    "%run \"../funciones_auxiliares/graficarVectores.ipynb\""
   ]
  },
  {
   "cell_type": "code",
   "execution_count": 3,
   "id": "2d1a6313",
   "metadata": {},
   "outputs": [],
   "source": [
    "orange_light = '#FF9A13'\n",
    "blue_light = '#1190FF'"
   ]
  },
  {
   "cell_type": "code",
   "execution_count": 17,
   "id": "f5a949f9",
   "metadata": {},
   "outputs": [
    {
     "name": "stdout",
     "output_type": "stream",
     "text": [
      "[[1 2 3]\n",
      " [3 4 5]]\n"
     ]
    }
   ],
   "source": [
    "A = np.array([[1,2,3],[3,4,5]])\n",
    "print(A)"
   ]
  },
  {
   "cell_type": "code",
   "execution_count": 18,
   "id": "45d37a26",
   "metadata": {},
   "outputs": [],
   "source": [
    "U, D, V = np.linalg.svd(A)"
   ]
  },
  {
   "cell_type": "code",
   "execution_count": 19,
   "id": "f33aaa96",
   "metadata": {},
   "outputs": [
    {
     "name": "stdout",
     "output_type": "stream",
     "text": [
      "[[-0.46410668 -0.88577931]\n",
      " [-0.88577931  0.46410668]]\n",
      "[7.97638869 0.61418515]\n"
     ]
    }
   ],
   "source": [
    "print(U)\n",
    "print(D)"
   ]
  },
  {
   "cell_type": "markdown",
   "id": "88771b8c",
   "metadata": {},
   "source": [
    "No nos devuelve una matriz para economizar"
   ]
  },
  {
   "cell_type": "code",
   "execution_count": 20,
   "id": "a873cc67",
   "metadata": {},
   "outputs": [
    {
     "name": "stdout",
     "output_type": "stream",
     "text": [
      "[[7.97638869 0.        ]\n",
      " [0.         0.61418515]]\n"
     ]
    }
   ],
   "source": [
    "print(np.diag(D))"
   ]
  },
  {
   "cell_type": "code",
   "execution_count": null,
   "id": "43b4c58a",
   "metadata": {},
   "outputs": [],
   "source": []
  }
 ],
 "metadata": {
  "kernelspec": {
   "display_name": "Python 3",
   "language": "python",
   "name": "python3"
  },
  "language_info": {
   "codemirror_mode": {
    "name": "ipython",
    "version": 3
   },
   "file_extension": ".py",
   "mimetype": "text/x-python",
   "name": "python",
   "nbconvert_exporter": "python",
   "pygments_lexer": "ipython3",
   "version": "3.8.8"
  }
 },
 "nbformat": 4,
 "nbformat_minor": 5
}
